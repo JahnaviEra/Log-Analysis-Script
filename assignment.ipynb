{
 "cells": [
  {
   "cell_type": "code",
   "execution_count": 2,
   "id": "00edee3c",
   "metadata": {},
   "outputs": [
    {
     "name": "stdout",
     "output_type": "stream",
     "text": [
      "IP Address           Request Count\n",
      "203.0.113.5          8\n",
      "198.51.100.23        8\n",
      "192.168.1.1          7\n",
      "10.0.0.2             6\n",
      "192.168.1.100        5\n",
      "\n",
      "Most Frequently Accessed Endpoint:\n",
      "GET (Accessed 17 times)\n"
     ]
    }
   ],
   "source": [
    "import csv\n",
    "from collections import defaultdict\n",
    "\n",
    "def process_log_file(filename, threshold=10):\n",
    "    # Dictionaries to store request counts and failed login attempts\n",
    "    ip_request_count = defaultdict(int)\n",
    "    endpoint_count = defaultdict(int)\n",
    "    failed_logins = defaultdict(int)\n",
    "\n",
    "    # Read the log file\n",
    "    with open(filename, 'r') as file:\n",
    "        for line in file:\n",
    "            # Split log line by spaces\n",
    "            parts = line.split()\n",
    "            ip = parts[0]\n",
    "            request = parts[5][1:] \n",
    "            status_code = parts[8]\n",
    "            ip_request_count[ip] += 1\n",
    "            endpoint_count[request] += 1\n",
    "            # Detect failed login attempts\n",
    "            if status_code == '401' or \"Invalid credentials\" in line:\n",
    "                failed_logins[ip] += 1\n",
    "\n",
    "    # Sorting results\n",
    "    sorted_ip_requests = sorted(ip_request_count.items(), key=lambda x: x[1], reverse=True)\n",
    "    most_accessed_endpoint = max(endpoint_count.items(), key=lambda x: x[1])\n",
    "    \n",
    "    # Find suspicious activity\n",
    "    suspicious_ips = {ip: count for ip, count in failed_logins.items() if count > threshold}\n",
    "\n",
    "    # Print the results\n",
    "    print(\"IP Address           Request Count\")\n",
    "    for ip, count in sorted_ip_requests:\n",
    "        print(f\"{ip:<20} {count}\")\n",
    "    \n",
    "    print(f\"\\nMost Frequently Accessed Endpoint:\\n{most_accessed_endpoint[0]} (Accessed {most_accessed_endpoint[1]} times)\")\n",
    "    \n",
    "    if suspicious_ips:\n",
    "        print(\"\\nSuspicious Activity Detected:\")\n",
    "        print(\"IP Address           Failed Login Attempts\")\n",
    "        for ip, count in suspicious_ips.items():\n",
    "            print(f\"{ip:<20} {count}\")\n",
    "    \n",
    "    with open(\"log_analysis_results.csv\", mode='w', newline='') as file:\n",
    "        writer = csv.writer(file)\n",
    "        \n",
    "        writer.writerow([\"IP Address\", \"Request Count\"])\n",
    "        for ip, count in sorted_ip_requests:\n",
    "            writer.writerow([ip, count])\n",
    "        \n",
    "        writer.writerow([\"Most Accessed Endpoint\", \"Access Count\"])\n",
    "        writer.writerow([most_accessed_endpoint[0], most_accessed_endpoint[1]])\n",
    "        \n",
    "        writer.writerow([\"IP Address\", \"Failed Login Count\"])\n",
    "        for ip, count in suspicious_ips.items():\n",
    "            writer.writerow([ip, count])\n",
    "            \n",
    "process_log_file(r\"C:\\Users\\DELL\\Desktop\\sample.log\")\n"
   ]
  }
 ],
 "metadata": {
  "kernelspec": {
   "display_name": "Python 3 (ipykernel)",
   "language": "python",
   "name": "python3"
  },
  "language_info": {
   "codemirror_mode": {
    "name": "ipython",
    "version": 3
   },
   "file_extension": ".py",
   "mimetype": "text/x-python",
   "name": "python",
   "nbconvert_exporter": "python",
   "pygments_lexer": "ipython3",
   "version": "3.9.13"
  }
 },
 "nbformat": 4,
 "nbformat_minor": 5
}
